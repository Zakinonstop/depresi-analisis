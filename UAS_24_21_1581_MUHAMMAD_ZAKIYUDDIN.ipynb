{
  "cells": [
    {
      "cell_type": "markdown",
      "metadata": {
        "id": "MGdVAZDf6McL"
      },
      "source": [
        "\n",
        "\n",
        "NAMA: MUHAMMAD ZAKIYUDDIN\n",
        "\n",
        "\n",
        "\n",
        "\n",
        "NIM : 24.21.1581\n",
        "\n"
      ]
    },
    {
      "cell_type": "markdown",
      "metadata": {
        "id": "HCSpyvye71FV"
      },
      "source": [
        "**Soal Nomor 1 A**\n",
        "\n",
        "Bidang yang dipilih adalah tentang tingkat depresi individu berdasarkan berbagai faktor.\n",
        "\n",
        "Alasan memilih bidang ini adalah karena perkembangan dunia sekarang yang mengarah kepada kesehatan mental, membuat seseorang menjadi depresi jika tidak bisa mengendalikan diri nya. Tentunya tingkat depresi juga dapat disebabkan berbagai faktor, maka dengan analisis di bisang ini nantinya saya berharap bisa mengetahui secara mendalam faktor-faktor apa yang membuat tingkat depresi menjadi tinggi dll.\n"
      ]
    },
    {
      "cell_type": "markdown",
      "metadata": {
        "id": "lzbU87UW_Oea"
      },
      "source": [
        "**Soal Nomor 1 B**\n",
        "\n",
        "Proses mendapatkan informasi ini melalui website Kaggle, ada beberapa dataset yang menjadi perbandingan, namun saya memilih dataset ini. Proses mencari dataset beberapa hari mulai tanggal 15 Januari, dan fix memilih dataset tersebut ditanggal 20 januari 2025.\n",
        "\n",
        "Informasi tentang Data:\n",
        "\n",
        "Deskripsi Kolom:\n",
        "\n",
        "\n",
        "\n",
        "1.   **Name**: Nama lengkap individu.\n",
        "2.   **Age**: Usia individu dalam tahun.  \n",
        "3. **Marital Status**: Status perkawinan individu. Nilai yang memungkinkan termasuk Lajang, Menikah, Cerai, dan Duda/Janda.\n",
        "4. **Education Level**: Tingkat pendidikan tertinggi yang dicapai oleh individu. Nilai yang memungkinkan termasuk SMA, Gelar Sarjana Muda, Gelar Sarjana, Gelar Magister, dan PhD.  \n",
        "5. **Number of Children**: Jumlah anak yang dimiliki individu.  \n",
        "6. **Smoking Status**: Menunjukkan apakah individu seorang perokok atau tidak. Nilai yang memungkinkan termasuk Perokok, Mantan Perokok, dan Tidak Merokok.  \n",
        "7. **Physical Activity Level**: Tingkat aktivitas fisik yang dilakukan oleh individu. Nilai yang memungkinkan termasuk Sedentari (tidak aktif), Moderat, dan Aktif.  \n",
        "8. **Employment Status**: Status pekerjaan individu. Nilai yang memungkinkan termasuk Bekerja dan Tidak Bekerja.  \n",
        "9. **Income**: Pendapatan tahunan individu dalam USD.  \n",
        "10. **Alcohol Consumption**: Tingkat konsumsi alkohol. Nilai yang memungkinkan termasuk Rendah, Sedang, dan Tinggi.  \n",
        "11. **Dietary Habits**: Kebiasaan makan individu. Nilai yang memungkinkan termasuk Sehat, Sedang, dan Tidak Sehat.  \n",
        "12. **Sleep Patterns**: Kualitas tidur. Nilai yang memungkinkan termasuk Baik, Cukup, dan Buruk.  \n",
        "13. **History of Mental Illness**: Apakah individu memiliki riwayat penyakit mental. Nilai yang memungkinkan adalah Ya dan Tidak.  \n",
        "14. **History of Substance Abuse**: Apakah individu memiliki riwayat penyalahgunaan zat. Nilai yang memungkinkan adalah Ya dan Tidak.  \n",
        "15. **Family History of Depression**: Menunjukkan apakah ada riwayat keluarga yang mengalami depresi. Nilai yang memungkinkan adalah Ya dan Tidak.  \n",
        "16. **Chronic Medical Conditions**: Apakah individu memiliki kondisi medis kronis. Nilai yang memungkinkan adalah Ya dan Tidak."
      ]
    },
    {
      "cell_type": "code",
      "execution_count": null,
      "metadata": {
        "colab": {
          "base_uri": "https://localhost:8080/"
        },
        "id": "Ui49XZb65zkA",
        "outputId": "67a3b208-cff3-49ea-e400-820e353fff53"
      },
      "outputs": [
        {
          "name": "stdout",
          "output_type": "stream",
          "text": [
            "Requirement already satisfied: pyspark in /usr/local/lib/python3.11/dist-packages (3.5.4)\n",
            "Requirement already satisfied: py4j==0.10.9.7 in /usr/local/lib/python3.11/dist-packages (from pyspark) (0.10.9.7)\n"
          ]
        }
      ],
      "source": [
        "!pip install pyspark"
      ]
    },
    {
      "cell_type": "markdown",
      "metadata": {
        "id": "ENpmxu1DCu4_"
      },
      "source": [
        "**Soal Nomor 1 C**\n",
        "\n",
        "Pre Processing Data:\n",
        "Memeriksa tipe data, mengganti nama kolom, memeriksa nilai null, mengubah tipe data (agar bisa di proses), menampilkan summary, dan menampilkan matriks korelasinya"
      ]
    },
    {
      "cell_type": "code",
      "execution_count": null,
      "metadata": {
        "colab": {
          "base_uri": "https://localhost:8080/"
        },
        "id": "7IfUpPllC4BY",
        "outputId": "4a743917-1c2b-4a9b-b479-47a1e0239e83"
      },
      "outputs": [
        {
          "name": "stdout",
          "output_type": "stream",
          "text": [
            "Tipe Data\n",
            "root\n",
            " |-- Name: string (nullable = true)\n",
            " |-- Age: integer (nullable = true)\n",
            " |-- Marital Status: string (nullable = true)\n",
            " |-- Education Level: string (nullable = true)\n",
            " |-- Number of Children: integer (nullable = true)\n",
            " |-- Smoking Status: string (nullable = true)\n",
            " |-- Physical Activity Level: string (nullable = true)\n",
            " |-- Employment Status: string (nullable = true)\n",
            " |-- Income: double (nullable = true)\n",
            " |-- Alcohol Consumption: string (nullable = true)\n",
            " |-- Dietary Habits: string (nullable = true)\n",
            " |-- Sleep Patterns: string (nullable = true)\n",
            " |-- History of Mental Illness: string (nullable = true)\n",
            " |-- History of Substance Abuse: string (nullable = true)\n",
            " |-- Family History of Depression: string (nullable = true)\n",
            " |-- Chronic Medical Conditions: string (nullable = true)\n",
            "\n"
          ]
        }
      ],
      "source": [
        "from pyspark.sql import SparkSession\n",
        "from pyspark.sql.functions import col\n",
        "\n",
        "spark = SparkSession.builder.appName('Deppression Analytic').getOrCreate()\n",
        "\n",
        "path = 'depression_data.csv'\n",
        "df = spark.read.csv(path, header = True, inferSchema = True)\n",
        "print(\"Tipe Data\")\n",
        "df.printSchema()"
      ]
    },
    {
      "cell_type": "code",
      "execution_count": null,
      "metadata": {
        "colab": {
          "base_uri": "https://localhost:8080/"
        },
        "id": "Fzy8GzlrGKWE",
        "outputId": "f1f7d5cc-ebcb-4e2b-fbbe-8fc72a163c69"
      },
      "outputs": [
        {
          "name": "stdout",
          "output_type": "stream",
          "text": [
            "root\n",
            " |-- Nama: string (nullable = true)\n",
            " |-- Usia: integer (nullable = true)\n",
            " |-- Status Perkawinan: string (nullable = true)\n",
            " |-- Tingkat Pendidikan: string (nullable = true)\n",
            " |-- Jumlah Anak: integer (nullable = true)\n",
            " |-- Status Merokok: string (nullable = true)\n",
            " |-- Tingkat Aktivitas Fisik: string (nullable = true)\n",
            " |-- Status Pekerjaan: string (nullable = true)\n",
            " |-- Pendapatan: double (nullable = true)\n",
            " |-- Konsumsi Alkohol: string (nullable = true)\n",
            " |-- Kebiasaan Diet: string (nullable = true)\n",
            " |-- Pola Tidur: string (nullable = true)\n",
            " |-- Riwayat Penyakit Mental: string (nullable = true)\n",
            " |-- Riwayat Penyalahgunaan Zat: string (nullable = true)\n",
            " |-- Riwayat Keluarga Depresi: string (nullable = true)\n",
            " |-- Kondisi Medis Kronis: string (nullable = true)\n",
            "\n"
          ]
        }
      ],
      "source": [
        "df = df.withColumnRenamed('Name', 'Nama') \\\n",
        "       .withColumnRenamed('Age', 'Usia') \\\n",
        "       .withColumnRenamed('Marital Status', 'Status Perkawinan') \\\n",
        "       .withColumnRenamed('Education Level', 'Tingkat Pendidikan') \\\n",
        "       .withColumnRenamed('Number of Children', 'Jumlah Anak') \\\n",
        "       .withColumnRenamed('Smoking Status', 'Status Merokok') \\\n",
        "       .withColumnRenamed('Physical Activity Level', 'Tingkat Aktivitas Fisik') \\\n",
        "       .withColumnRenamed('Employment Status', 'Status Pekerjaan') \\\n",
        "       .withColumnRenamed('Income', 'Pendapatan') \\\n",
        "       .withColumnRenamed('Alcohol Consumption', 'Konsumsi Alkohol') \\\n",
        "       .withColumnRenamed('Dietary Habits', 'Kebiasaan Diet') \\\n",
        "       .withColumnRenamed('Sleep Patterns', 'Pola Tidur') \\\n",
        "       .withColumnRenamed('History of Mental Illness', 'Riwayat Penyakit Mental') \\\n",
        "       .withColumnRenamed('History of Substance Abuse', 'Riwayat Penyalahgunaan Zat') \\\n",
        "       .withColumnRenamed('Family History of Depression', 'Riwayat Keluarga Depresi') \\\n",
        "       .withColumnRenamed('Chronic Medical Conditions', 'Kondisi Medis Kronis')\n",
        "\n",
        "df.printSchema()"
      ]
    },
    {
      "cell_type": "code",
      "execution_count": null,
      "metadata": {
        "colab": {
          "base_uri": "https://localhost:8080/"
        },
        "id": "ApNjPY5qIkyD",
        "outputId": "74498adf-1db0-4c4d-8256-4aed50185295"
      },
      "outputs": [
        {
          "name": "stdout",
          "output_type": "stream",
          "text": [
            "\n",
            "Jumlah Nilai Null:\n",
            "Nama                          0\n",
            "Usia                          0\n",
            "Status Perkawinan             0\n",
            "Tingkat Pendidikan            0\n",
            "Jumlah Anak                   0\n",
            "Status Merokok                0\n",
            "Tingkat Aktivitas Fisik       0\n",
            "Status Pekerjaan              0\n",
            "Pendapatan                    0\n",
            "Konsumsi Alkohol              0\n",
            "Kebiasaan Diet                0\n",
            "Pola Tidur                    0\n",
            "Riwayat Penyakit Mental       0\n",
            "Riwayat Penyalahgunaan Zat    0\n",
            "Riwayat Keluarga Depresi      0\n",
            "Kondisi Medis Kronis          0\n",
            "dtype: int64\n",
            "+-------------------+----+-----------------+------------------+-----------+--------------+-----------------------+----------------+----------+----------------+--------------+----------+-----------------------+--------------------------+------------------------+--------------------+\n",
            "|               Nama|Usia|Status Perkawinan|Tingkat Pendidikan|Jumlah Anak|Status Merokok|Tingkat Aktivitas Fisik|Status Pekerjaan|Pendapatan|Konsumsi Alkohol|Kebiasaan Diet|Pola Tidur|Riwayat Penyakit Mental|Riwayat Penyalahgunaan Zat|Riwayat Keluarga Depresi|Kondisi Medis Kronis|\n",
            "+-------------------+----+-----------------+------------------+-----------+--------------+-----------------------+----------------+----------+----------------+--------------+----------+-----------------------+--------------------------+------------------------+--------------------+\n",
            "|   Christine Barker|  31|          Married| Bachelor's Degree|          2|    Non-smoker|                 Active|      Unemployed|  26265.67|        Moderate|      Moderate|      Fair|                    Yes|                        No|                     Yes|                 Yes|\n",
            "|   Jacqueline Lewis|  55|          Married|       High School|          1|    Non-smoker|              Sedentary|        Employed|  42710.36|            High|     Unhealthy|      Fair|                    Yes|                        No|                      No|                 Yes|\n",
            "|     Shannon Church|  78|          Widowed|   Master's Degree|          1|    Non-smoker|              Sedentary|        Employed| 125332.79|             Low|     Unhealthy|      Good|                     No|                        No|                     Yes|                  No|\n",
            "|     Charles Jordan|  58|         Divorced|   Master's Degree|          3|    Non-smoker|               Moderate|      Unemployed|   9992.78|        Moderate|      Moderate|      Poor|                     No|                        No|                      No|                  No|\n",
            "|       Michael Rich|  18|           Single|       High School|          0|    Non-smoker|              Sedentary|      Unemployed|   8595.08|             Low|      Moderate|      Fair|                    Yes|                        No|                     Yes|                 Yes|\n",
            "|         Kathy Hill|  20|           Single|       High School|          0|        Former|                 Active|        Employed|  44448.91|             Low|     Unhealthy|      Fair|                     No|                       Yes|                      No|                  No|\n",
            "|    Crystal Delgado|  60|          Widowed|  Associate Degree|          1|    Non-smoker|              Sedentary|      Unemployed|  22565.47|        Moderate|      Moderate|      Poor|                     No|                       Yes|                      No|                  No|\n",
            "|     Charles Kaiser|  31|           Single|       High School|          0|    Non-smoker|                 Active|        Employed|  39608.18|        Moderate|     Unhealthy|      Good|                     No|                        No|                      No|                  No|\n",
            "|     Kathryn Taylor|  50|         Divorced| Bachelor's Degree|          0|    Non-smoker|                 Active|        Employed|  93360.07|        Moderate|       Healthy|      Good|                     No|                       Yes|                      No|                 Yes|\n",
            "|Alexander Hernandez|  77|          Married| Bachelor's Degree|          2|    Non-smoker|              Sedentary|        Employed|  77597.84|             Low|     Unhealthy|      Poor|                    Yes|                        No|                      No|                  No|\n",
            "|       Scott Butler|  70|          Married|       High School|          1|    Non-smoker|               Moderate|      Unemployed|  28528.97|        Moderate|      Moderate|      Fair|                    Yes|                       Yes|                      No|                 Yes|\n",
            "|       Anthony Rowe|  59|          Married| Bachelor's Degree|          1|    Non-smoker|              Sedentary|        Employed|  61225.16|        Moderate|     Unhealthy|      Fair|                     No|                        No|                      No|                  No|\n",
            "|        Megan Haley|  33|          Married| Bachelor's Degree|          4|    Non-smoker|              Sedentary|      Unemployed|   10145.1|        Moderate|      Moderate|      Fair|                    Yes|                        No|                      No|                  No|\n",
            "|      Anne Gonzalez|  70|          Widowed|   Master's Degree|          1|    Non-smoker|               Moderate|      Unemployed|  13428.05|            High|       Healthy|      Fair|                     No|                        No|                      No|                 Yes|\n",
            "|         Linda Bush|  66|          Widowed| Bachelor's Degree|          1|    Non-smoker|              Sedentary|      Unemployed|  16853.76|        Moderate|      Moderate|      Fair|                     No|                        No|                     Yes|                 Yes|\n",
            "|     Daniel Estrada|  38|          Married|               PhD|          0|    Non-smoker|               Moderate|        Employed| 202449.17|            High|       Healthy|      Fair|                     No|                        No|                      No|                  No|\n",
            "|       Alyssa Scott|  25|           Single| Bachelor's Degree|          0|        Former|                 Active|        Employed|   90815.8|            High|      Moderate|      Good|                     No|                        No|                     Yes|                  No|\n",
            "|Christopher Wallace|  77|          Married| Bachelor's Degree|          0|        Former|              Sedentary|      Unemployed|  10286.88|             Low|      Moderate|      Fair|                     No|                        No|                      No|                  No|\n",
            "|      Theresa Smith|  32|          Married|  Associate Degree|          3|    Non-smoker|              Sedentary|        Employed|  57445.12|            High|     Unhealthy|      Fair|                     No|                       Yes|                      No|                  No|\n",
            "|       Brian Robles|  52|          Married|   Master's Degree|          1|    Non-smoker|              Sedentary|        Employed| 115246.61|            High|     Unhealthy|      Fair|                     No|                        No|                      No|                 Yes|\n",
            "+-------------------+----+-----------------+------------------+-----------+--------------+-----------------------+----------------+----------+----------------+--------------+----------+-----------------------+--------------------------+------------------------+--------------------+\n",
            "only showing top 20 rows\n",
            "\n"
          ]
        }
      ],
      "source": [
        "import pandas as pd\n",
        "data = df.toPandas()\n",
        "\n",
        "print(\"\\nJumlah Nilai Null:\")\n",
        "print(data.isnull().sum())\n",
        "df.show()"
      ]
    },
    {
      "cell_type": "markdown",
      "metadata": {
        "id": "gQsai3P26LSL"
      },
      "source": []
    },
    {
      "cell_type": "code",
      "execution_count": null,
      "metadata": {
        "colab": {
          "base_uri": "https://localhost:8080/"
        },
        "id": "-75f-A4aLEAa",
        "outputId": "c7a61fb4-82c3-4061-f1e7-dcf185db2dd8"
      },
      "outputs": [
        {
          "name": "stdout",
          "output_type": "stream",
          "text": [
            "\n",
            "Summery Data:\n",
            "                 Nama           Usia Status Perkawinan Tingkat Pendidikan  \\\n",
            "count          413768  413768.000000            413768             413768   \n",
            "unique         196851            NaN                 4                  5   \n",
            "top     Michael Smith            NaN           Married  Bachelor's Degree   \n",
            "freq              198            NaN            240444             124329   \n",
            "mean              NaN      49.000713               NaN                NaN   \n",
            "std               NaN      18.158759               NaN                NaN   \n",
            "min               NaN      18.000000               NaN                NaN   \n",
            "25%               NaN      33.000000               NaN                NaN   \n",
            "50%               NaN      49.000000               NaN                NaN   \n",
            "75%               NaN      65.000000               NaN                NaN   \n",
            "max               NaN      80.000000               NaN                NaN   \n",
            "\n",
            "          Jumlah Anak Status Merokok Tingkat Aktivitas Fisik Status Pekerjaan  \\\n",
            "count   413768.000000         413768                  413768           413768   \n",
            "unique            NaN              3                       3                2   \n",
            "top               NaN     Non-smoker               Sedentary         Employed   \n",
            "freq              NaN         247416                  176850           265659   \n",
            "mean         1.298972            NaN                     NaN              NaN   \n",
            "std          1.237054            NaN                     NaN              NaN   \n",
            "min          0.000000            NaN                     NaN              NaN   \n",
            "25%          0.000000            NaN                     NaN              NaN   \n",
            "50%          1.000000            NaN                     NaN              NaN   \n",
            "75%          2.000000            NaN                     NaN              NaN   \n",
            "max          4.000000            NaN                     NaN              NaN   \n",
            "\n",
            "           Pendapatan Konsumsi Alkohol Kebiasaan Diet Pola Tidur  \\\n",
            "count   413768.000000           413768         413768     413768   \n",
            "unique            NaN                3              3          3   \n",
            "top               NaN         Moderate      Unhealthy       Fair   \n",
            "freq              NaN           173440         170817     196789   \n",
            "mean     50661.707971              NaN            NaN        NaN   \n",
            "std      40624.100565              NaN            NaN        NaN   \n",
            "min          0.410000              NaN            NaN        NaN   \n",
            "25%      21001.030000              NaN            NaN        NaN   \n",
            "50%      37520.135000              NaN            NaN        NaN   \n",
            "75%      76616.300000              NaN            NaN        NaN   \n",
            "max     209995.220000              NaN            NaN        NaN   \n",
            "\n",
            "       Riwayat Penyakit Mental Riwayat Penyalahgunaan Zat  \\\n",
            "count                   413768                     413768   \n",
            "unique                       2                          2   \n",
            "top                         No                         No   \n",
            "freq                    287943                     284880   \n",
            "mean                       NaN                        NaN   \n",
            "std                        NaN                        NaN   \n",
            "min                        NaN                        NaN   \n",
            "25%                        NaN                        NaN   \n",
            "50%                        NaN                        NaN   \n",
            "75%                        NaN                        NaN   \n",
            "max                        NaN                        NaN   \n",
            "\n",
            "       Riwayat Keluarga Depresi Kondisi Medis Kronis  \n",
            "count                    413768               413768  \n",
            "unique                        2                    2  \n",
            "top                          No                   No  \n",
            "freq                     302515               277561  \n",
            "mean                        NaN                  NaN  \n",
            "std                         NaN                  NaN  \n",
            "min                         NaN                  NaN  \n",
            "25%                         NaN                  NaN  \n",
            "50%                         NaN                  NaN  \n",
            "75%                         NaN                  NaN  \n",
            "max                         NaN                  NaN  \n"
          ]
        }
      ],
      "source": [
        "import numpy as np\n",
        "import seaborn as sns\n",
        "import matplotlib.pyplot as plt\n",
        "\n",
        "print(\"\\nSummery Data:\")\n",
        "print(data.describe(include='all'))"
      ]
    },
    {
      "cell_type": "markdown",
      "metadata": {
        "id": "sfGHn0fSMFrb"
      },
      "source": [
        "Gunakan exploratory data analysis (EDA) untuk melihat sudut pandang yang ada mengenai data (minimal 4) dua diantaranya bar dan pie chart, 2 diantaranya bebas. Berikan penjelasan."
      ]
    },
    {
      "cell_type": "code",
      "execution_count": null,
      "metadata": {
        "colab": {
          "base_uri": "https://localhost:8080/",
          "height": 570
        },
        "id": "2cwe8OMyMJZC",
        "outputId": "b8f773c6-1b20-4f1a-a6c0-548cd64e736b"
      },
      "outputs": [
        {
          "data": {
            "image/png": "[encoded data removed]",
            "text/plain": [
              "<Figure size 1000x600 with 1 Axes>"
            ]
          },
          "metadata": {},
          "output_type": "display_data"
        }
      ],
      "source": [
        "from pyspark.sql.functions import col, count\n",
        "import matplotlib.pyplot as plt\n",
        "\n",
        "depression_by_age = (df.groupBy(\"Usia\")\n",
        "                       .agg(count(\"*\").alias(\"Total Depresi\"))\n",
        "                       .orderBy(col(\"Total Depresi\").desc())\n",
        "                       .limit(10))\n",
        "\n",
        "depression_by_age_pd = depression_by_age.toPandas()\n",
        "depression_by_age_pd[\"Usia\"] = depression_by_age_pd[\"Usia\"].astype(str)\n",
        "\n",
        "plt.figure(figsize=(10, 6))\n",
        "plt.bar(depression_by_age_pd[\"Usia\"], depression_by_age_pd[\"Total Depresi\"], color=\"red\")\n",
        "plt.title(\"Tingkat Depresi tertinggi berdasarkan Usia\")\n",
        "plt.xlabel(\"Usia\")\n",
        "plt.ylabel(\"Total Kasus Depresi\")\n",
        "plt.xticks(rotation=45)\n",
        "plt.show()"
      ]
    },
    {
      "cell_type": "markdown",
      "metadata": {
        "id": "bbIHJ4F4WZUM"
      },
      "source": [
        "**1. Bar Chart**\n",
        "\n",
        "Chart batang diatas menunjukkan 10 usia dengan tingkat depresi tertinggi.\n",
        "Sumbu X menunjukkan 10 Usia tertinggi\n",
        "Sumbu Y menunjukkan jumlah total kasus depresi\n",
        "\n",
        "Dengan berdasar chart diatas menunjukkan bahwa jumlah kasus depresi sesuai usia tersebut sangat tinggi, lebih dari 1500 orang\n",
        "\n",
        "Jadi kesimpulannya di usia-usia tersebut perlu perhatian khusus masalah kasus depresi."
      ]
    },
    {
      "cell_type": "code",
      "execution_count": null,
      "metadata": {
        "colab": {
          "base_uri": "https://localhost:8080/",
          "height": 803
        },
        "id": "6qLD9UwWXTYW",
        "outputId": "96febad5-533b-479c-9d71-ee2f6606d518"
      },
      "outputs": [
        {
          "data": {
            "image/png": "[encoded data removed]",
            "text/plain": [
              "<Figure size 800x800 with 1 Axes>"
            ]
          },
          "metadata": {},
          "output_type": "display_data"
        }
      ],
      "source": [
        "employment_status_pd = df.select(\"Status Pekerjaan\").toPandas()\n",
        "employment_status_counts = employment_status_pd[\"Status Pekerjaan\"].value_counts()\n",
        "employment_status_counts.plot(kind=\"pie\", autopct=\"%1.1f%%\", figsize=(8,8), startangle=90)\n",
        "\n",
        "plt.title(\"Employ Category\")\n",
        "plt.ylabel(\"\")\n",
        "plt.tight_layout()\n",
        "plt.show()\n",
        "\n",
        "#employment_status_pd.show()"
      ]
    },
    {
      "cell_type": "markdown",
      "metadata": {
        "id": "OSO0EhuzDj6A"
      },
      "source": [
        "**2. Pie Chart**\n",
        "\n",
        "Pie chart menunjukkan tentang kategori karyawan dan bukan karyawan yang mendapati masalah depresi. Dari gambar atau grafik pie diatas menunjukkan bahwa orang yang sedang bekerja atau karyawan mempunyai tingkat depresi yang lebih tinggi."
      ]
    },
    {
      "cell_type": "code",
      "execution_count": null,
      "metadata": {
        "colab": {
          "base_uri": "https://localhost:8080/",
          "height": 528
        },
        "id": "TYs6p31M0uDm",
        "outputId": "e5ae3053-8e74-40b7-c145-3d2eadfafe10"
      },
      "outputs": [
        {
          "data": {
            "image/png": "[encoded data removed]",
            "text/plain": [
              "<Figure size 1000x600 with 1 Axes>"
            ]
          },
          "metadata": {},
          "output_type": "display_data"
        }
      ],
      "source": [
        "employment_status_pd = df.select(\"Status Perkawinan\").toPandas()\n",
        "employment_status_counts = employment_status_pd[\"Status Perkawinan\"].value_counts()\n",
        "employment_status_counts.plot(\n",
        "    kind=\"line\", marker=\"o\", color=\"blue\", figsize=(10,6)\n",
        "    )\n",
        "\n",
        "plt.title(\"Marital Category\")\n",
        "plt.ylabel(\"\")\n",
        "plt.tight_layout()\n",
        "plt.show()"
      ]
    },
    {
      "cell_type": "markdown",
      "metadata": {
        "id": "YCBqcddj2NSg"
      },
      "source": [
        "**3. Line Chart**\n",
        "\n",
        "Line chart diatas menunjukkan banyaknya tingkat depresi yang menimpa orang-orang berdasarkan kategori pernikahan.\n",
        "\n",
        "Berdasar grafik diatas tingkat depresi tertinggi menimpa orang yang telah menikah, kemudian kedua menimpa single, yang ketiga menimpa janda, dan yang terakhir menimpa orang yang sudah bercerai."
      ]
    },
    {
      "cell_type": "code",
      "execution_count": null,
      "metadata": {
        "colab": {
          "base_uri": "https://localhost:8080/",
          "height": 528
        },
        "id": "6pmHMfgV2Zxp",
        "outputId": "11e9efd8-71d1-4937-c68c-9170b307b212"
      },
      "outputs": [
        {
          "data": {
            "image/png": "[encoded data removed]",
            "text/plain": [
              "<Figure size 1000x600 with 1 Axes>"
            ]
          },
          "metadata": {},
          "output_type": "display_data"
        }
      ],
      "source": [
        "jumlah_anak_pd = df.select(\"Jumlah Anak\").toPandas()\n",
        "\n",
        "jumlah_anak_counts = jumlah_anak_pd[\"Jumlah Anak\"].value_counts().reset_index()\n",
        "jumlah_anak_counts.columns = [\"Jumlah Anak\", \"Frekuensi\"]\n",
        "\n",
        "fig, ax = plt.subplots(figsize=(10, 6))\n",
        "\n",
        "ax.scatter(\n",
        "    jumlah_anak_counts[\"Jumlah Anak\"],\n",
        "    jumlah_anak_counts[\"Frekuensi\"],\n",
        "    color=\"blue\",\n",
        "    s=100\n",
        ")\n",
        "\n",
        "plt.title(\"Distribusi Jumlah Anak\")\n",
        "plt.xlabel(\"Jumlah Anak\")\n",
        "plt.ylabel(\"Frekuensi\")\n",
        "\n",
        "plt.grid(True)\n",
        "plt.tight_layout()\n",
        "plt.show()\n"
      ]
    },
    {
      "cell_type": "markdown",
      "metadata": {
        "id": "ihCuYYVZ5cAu"
      },
      "source": [
        "**4. Scatter Plot**\n",
        "\n",
        "Scatter Plot diatas menunjukkan banyaknya tingkat depresi yang menimpa orang-orang berdasarkan jumlah anak.\n",
        "\n",
        "Berdasar plot atau titik-titik diatas tingkat depresi tertinggi menimpa orang yang tidak mempunyai anak, kemudian kedua menimpa keluarga yang mempunyai 2 anak, selanjutnya ketiga menimpa keluarga yang mempunyai 1 anak, kemudian 3 anak dan terakhir terendah terhadap keluarga yang mempunyai 4 anak."
      ]
    },
    {
      "cell_type": "markdown",
      "metadata": {
        "id": "6SgZS6xCCjS0"
      },
      "source": [
        "**Soal Nomor 2**"
      ]
    },
    {
      "cell_type": "code",
      "execution_count": null,
      "metadata": {
        "id": "EioIzV8uFM3V"
      },
      "outputs": [],
      "source": [
        "from pyspark.ml.feature import VectorAssembler, StringIndexer\n",
        "from pyspark.ml.classification import (\n",
        "    RandomForestClassifier,\n",
        "    GBTClassifier,\n",
        "    LogisticRegression,\n",
        "    DecisionTreeClassifier\n",
        ")\n",
        "from pyspark.ml.evaluation import BinaryClassificationEvaluator, MulticlassClassificationEvaluator\n"
      ]
    },
    {
      "cell_type": "code",
      "execution_count": null,
      "metadata": {
        "colab": {
          "base_uri": "https://localhost:8080/"
        },
        "id": "Qhw108kSFReq",
        "outputId": "9d011877-c550-4346-f38a-cccc797fe64b"
      },
      "outputs": [
        {
          "name": "stdout",
          "output_type": "stream",
          "text": [
            "Random Forest Accuracy: 0.49906582611106426\n",
            "F1 Score: 0.4390454939638887\n"
          ]
        }
      ],
      "source": [
        "path = 'depression_data.csv'\n",
        "df2 = spark.read.csv(path, header = True, inferSchema = True)\n",
        "\n",
        "df2 = df2.withColumnRenamed('Name', 'Nama') \\\n",
        "       .withColumnRenamed('Age', 'Usia') \\\n",
        "       .withColumnRenamed('Marital Status', 'Status Perkawinan') \\\n",
        "       .withColumnRenamed('Education Level', 'Tingkat Pendidikan') \\\n",
        "       .withColumnRenamed('Number of Children', 'Jumlah Anak') \\\n",
        "       .withColumnRenamed('Smoking Status', 'Status Merokok') \\\n",
        "       .withColumnRenamed('Physical Activity Level', 'Tingkat Aktivitas Fisik') \\\n",
        "       .withColumnRenamed('Employment Status', 'Status Pekerjaan') \\\n",
        "       .withColumnRenamed('Income', 'Pendapatan') \\\n",
        "       .withColumnRenamed('Alcohol Consumption', 'Konsumsi Alkohol') \\\n",
        "       .withColumnRenamed('Dietary Habits', 'Kebiasaan Diet') \\\n",
        "       .withColumnRenamed('Sleep Patterns', 'Pola Tidur') \\\n",
        "       .withColumnRenamed('History of Mental Illness', 'Riwayat Penyakit Mental') \\\n",
        "       .withColumnRenamed('History of Substance Abuse', 'Riwayat Penyalahgunaan Zat') \\\n",
        "       .withColumnRenamed('Family History of Depression', 'Riwayat Keluarga Depresi') \\\n",
        "       .withColumnRenamed('Chronic Medical Conditions', 'Kondisi Medis Kronis')\n",
        "\n",
        "indexer = StringIndexer(inputCol=\"Usia\", outputCol=\"label\")\n",
        "df2 = indexer.fit(df2).transform(df2)\n",
        "\n",
        "feature_columns = ['Usia', 'Jumlah Anak', 'Pendapatan']\n",
        "assembler = VectorAssembler(inputCols=feature_columns, outputCol=\"features\")\n",
        "df2 = assembler.transform(df2).select(\"features\", \"label\")\n",
        "\n",
        "train_data, test_data = df2.randomSplit([0.8, 0.2], seed=42)\n",
        "\n",
        "# Random Forest Classifier\n",
        "rf = RandomForestClassifier(labelCol=\"label\", featuresCol=\"features\", numTrees=100)\n",
        "rf_model = rf.fit(train_data)\n",
        "\n",
        "predictions_rf = rf_model.transform(test_data)\n",
        "evaluator = MulticlassClassificationEvaluator(labelCol=\"label\", metricName=\"accuracy\")\n",
        "accuracy_rf = evaluator.evaluate(predictions_rf)\n",
        "print(f\"Random Forest Accuracy: {accuracy_rf}\")\n",
        "\n",
        "f1_rf = MulticlassClassificationEvaluator(labelCol=\"label\", metricName=\"f1\").evaluate(predictions_rf)\n",
        "print(f\"F1 Score: {f1_rf}\")\n"
      ]
    },
    {
      "cell_type": "code",
      "execution_count": null,
      "metadata": {
        "colab": {
          "base_uri": "https://localhost:8080/"
        },
        "id": "sl7kF3rQ6UKT",
        "outputId": "fa85f4e6-f7ba-4d4a-ce36-5c9a28aeca5c"
      },
      "outputs": [
        {
          "name": "stdout",
          "output_type": "stream",
          "text": [
            "+-----+\n",
            "|label|\n",
            "+-----+\n",
            "|    1|\n",
            "|    0|\n",
            "+-----+\n",
            "\n",
            "Gradient Boosted Tree Accuracy: 0.6933981027229662\n",
            "F1 Score: 0.5678533926389623\n"
          ]
        }
      ],
      "source": [
        "from pyspark.sql import SparkSession\n",
        "from pyspark.ml.feature import StringIndexer, VectorAssembler\n",
        "from pyspark.ml.classification import GBTClassifier\n",
        "from pyspark.ml.evaluation import MulticlassClassificationEvaluator\n",
        "from pyspark.sql.functions import when\n",
        "\n",
        "# Inisialisasi Spark Session\n",
        "spark = SparkSession.builder.appName(\"MentalHealthPrediction\").getOrCreate()\n",
        "\n",
        "path = 'depression_data.csv'\n",
        "df2 = spark.read.csv(path, header=True, inferSchema=True)\n",
        "\n",
        "df2 = df2.withColumnRenamed('Name', 'Nama') \\\n",
        "       .withColumnRenamed('Age', 'Usia') \\\n",
        "       .withColumnRenamed('Marital Status', 'Status Perkawinan') \\\n",
        "       .withColumnRenamed('Education Level', 'Tingkat Pendidikan') \\\n",
        "       .withColumnRenamed('Number of Children', 'Jumlah Anak') \\\n",
        "       .withColumnRenamed('Smoking Status', 'Status Merokok') \\\n",
        "       .withColumnRenamed('Physical Activity Level', 'Tingkat Aktivitas Fisik') \\\n",
        "       .withColumnRenamed('Employment Status', 'Status Pekerjaan') \\\n",
        "       .withColumnRenamed('Income', 'Pendapatan') \\\n",
        "       .withColumnRenamed('Alcohol Consumption', 'Konsumsi Alkohol') \\\n",
        "       .withColumnRenamed('Dietary Habits', 'Kebiasaan Diet') \\\n",
        "       .withColumnRenamed('Sleep Patterns', 'Pola Tidur') \\\n",
        "       .withColumnRenamed('History of Mental Illness', 'Riwayat Penyakit Mental') \\\n",
        "       .withColumnRenamed('History of Substance Abuse', 'Riwayat Penyalahgunaan Zat') \\\n",
        "       .withColumnRenamed('Family History of Depression', 'Riwayat Keluarga Depresi') \\\n",
        "       .withColumnRenamed('Chronic Medical Conditions', 'Kondisi Medis Kronis')\n",
        "\n",
        "# Pastikan label adalah biner dengan StringIndexer pada kolom yang sesuai\n",
        "indexer = StringIndexer(inputCol=\"Riwayat Penyakit Mental\", outputCol=\"label\")\n",
        "df2 = indexer.fit(df2).transform(df2)\n",
        "\n",
        "# Konversi nilai label ke biner (0 atau 1)\n",
        "df2 = df2.withColumn(\"label\", when(df2[\"label\"] > 0, 1).otherwise(0))\n",
        "\n",
        "# Periksa nilai unik dalam label untuk memastikan sudah biner\n",
        "df2.select(\"label\").distinct().show()\n",
        "\n",
        "# Gabungkan fitur\n",
        "feature_columns = ['Usia', 'Jumlah Anak', 'Pendapatan']\n",
        "assembler = VectorAssembler(inputCols=feature_columns, outputCol=\"features\")\n",
        "df2 = assembler.transform(df2).select(\"features\", \"label\")\n",
        "\n",
        "# Split data menjadi train dan test\n",
        "train_data, test_data = df2.randomSplit([0.8, 0.2], seed=42)\n",
        "\n",
        "# Gradient Boosted Tree Classifier\n",
        "gbt = GBTClassifier(labelCol=\"label\", featuresCol=\"features\", maxIter=100)\n",
        "gbt_model = gbt.fit(train_data)\n",
        "\n",
        "predictions_gbt = gbt_model.transform(test_data)\n",
        "evaluator = MulticlassClassificationEvaluator(labelCol=\"label\", metricName=\"accuracy\")\n",
        "accuracy_gbt = evaluator.evaluate(predictions_gbt)\n",
        "print(f\"Gradient Boosted Tree Accuracy: {accuracy_gbt}\")\n",
        "\n",
        "f1_gbt = MulticlassClassificationEvaluator(labelCol=\"label\", metricName=\"f1\").evaluate(predictions_gbt)\n",
        "print(f\"F1 Score: {f1_gbt}\")\n"
      ]
    },
    {
      "cell_type": "code",
      "execution_count": null,
      "metadata": {
        "colab": {
          "base_uri": "https://localhost:8080/"
        },
        "id": "BXb5nuKFBFG7",
        "outputId": "c5fc02b6-0ac4-44b3-9fda-48fbdb0f6cb1"
      },
      "outputs": [
        {
          "name": "stdout",
          "output_type": "stream",
          "text": [
            "+-----+\n",
            "|label|\n",
            "+-----+\n",
            "|    1|\n",
            "|    0|\n",
            "+-----+\n",
            "\n",
            "Logistic Regression Accuracy: 0.6933981027229662\n",
            "F1 Score: 0.5678533926389623\n"
          ]
        }
      ],
      "source": [
        "from pyspark.sql import SparkSession\n",
        "from pyspark.ml.feature import StringIndexer, VectorAssembler\n",
        "from pyspark.ml.classification import LogisticRegression\n",
        "from pyspark.ml.evaluation import MulticlassClassificationEvaluator\n",
        "from pyspark.sql.functions import when\n",
        "\n",
        "# Inisialisasi Spark Session\n",
        "spark = SparkSession.builder.appName(\"MentalHealthPrediction\").getOrCreate()\n",
        "\n",
        "path = 'depression_data.csv'\n",
        "df2 = spark.read.csv(path, header=True, inferSchema=True)\n",
        "\n",
        "df2 = df2.withColumnRenamed('Name', 'Nama') \\\n",
        "       .withColumnRenamed('Age', 'Usia') \\\n",
        "       .withColumnRenamed('Marital Status', 'Status Perkawinan') \\\n",
        "       .withColumnRenamed('Education Level', 'Tingkat Pendidikan') \\\n",
        "       .withColumnRenamed('Number of Children', 'Jumlah Anak') \\\n",
        "       .withColumnRenamed('Smoking Status', 'Status Merokok') \\\n",
        "       .withColumnRenamed('Physical Activity Level', 'Tingkat Aktivitas Fisik') \\\n",
        "       .withColumnRenamed('Employment Status', 'Status Pekerjaan') \\\n",
        "       .withColumnRenamed('Income', 'Pendapatan') \\\n",
        "       .withColumnRenamed('Alcohol Consumption', 'Konsumsi Alkohol') \\\n",
        "       .withColumnRenamed('Dietary Habits', 'Kebiasaan Diet') \\\n",
        "       .withColumnRenamed('Sleep Patterns', 'Pola Tidur') \\\n",
        "       .withColumnRenamed('History of Mental Illness', 'Riwayat Penyakit Mental') \\\n",
        "       .withColumnRenamed('History of Substance Abuse', 'Riwayat Penyalahgunaan Zat') \\\n",
        "       .withColumnRenamed('Family History of Depression', 'Riwayat Keluarga Depresi') \\\n",
        "       .withColumnRenamed('Chronic Medical Conditions', 'Kondisi Medis Kronis')\n",
        "\n",
        "# Pastikan label adalah biner dengan StringIndexer pada kolom yang sesuai\n",
        "indexer = StringIndexer(inputCol=\"Riwayat Penyakit Mental\", outputCol=\"label\")\n",
        "df2 = indexer.fit(df2).transform(df2)\n",
        "\n",
        "# Konversi nilai label ke biner (0 atau 1)\n",
        "df2 = df2.withColumn(\"label\", when(df2[\"label\"] > 0, 1).otherwise(0))\n",
        "\n",
        "# Periksa nilai unik dalam label untuk memastikan sudah biner\n",
        "df2.select(\"label\").distinct().show()\n",
        "\n",
        "# Gabungkan fitur\n",
        "feature_columns = ['Usia', 'Jumlah Anak', 'Pendapatan']\n",
        "assembler = VectorAssembler(inputCols=feature_columns, outputCol=\"features\")\n",
        "df2 = assembler.transform(df2).select(\"features\", \"label\")\n",
        "\n",
        "# Split data menjadi train dan test\n",
        "train_data, test_data = df2.randomSplit([0.8, 0.2], seed=42)\n",
        "\n",
        "# Logistic Regression Classifier\n",
        "lr = LogisticRegression(labelCol=\"label\", featuresCol=\"features\", maxIter=100)\n",
        "lr_model = lr.fit(train_data)\n",
        "\n",
        "predictions_lr = lr_model.transform(test_data)\n",
        "evaluator = MulticlassClassificationEvaluator(labelCol=\"label\", metricName=\"accuracy\")\n",
        "accuracy_lr = evaluator.evaluate(predictions_lr)\n",
        "print(f\"Logistic Regression Accuracy: {accuracy_lr}\")\n",
        "\n",
        "f1_lr = MulticlassClassificationEvaluator(labelCol=\"label\", metricName=\"f1\").evaluate(predictions_lr)\n",
        "print(f\"F1 Score: {f1_lr}\")\n"
      ]
    },
    {
      "cell_type": "code",
      "execution_count": null,
      "metadata": {
        "colab": {
          "base_uri": "https://localhost:8080/"
        },
        "id": "189LgEuPB2-X",
        "outputId": "abec8cd7-0f61-4843-d5c0-b716abaf99e2"
      },
      "outputs": [
        {
          "name": "stdout",
          "output_type": "stream",
          "text": [
            "+-----+\n",
            "|label|\n",
            "+-----+\n",
            "|    1|\n",
            "|    0|\n",
            "+-----+\n",
            "\n",
            "Decision Tree Accuracy: 0.6933981027229662\n",
            "F1 Score: 0.5678533926389623\n"
          ]
        }
      ],
      "source": [
        "from pyspark.sql import SparkSession\n",
        "from pyspark.ml.feature import StringIndexer, VectorAssembler\n",
        "from pyspark.ml.classification import DecisionTreeClassifier\n",
        "from pyspark.ml.evaluation import MulticlassClassificationEvaluator\n",
        "from pyspark.sql.functions import when\n",
        "\n",
        "# Inisialisasi Spark Session\n",
        "spark = SparkSession.builder.appName(\"MentalHealthPrediction\").getOrCreate()\n",
        "\n",
        "path = 'depression_data.csv'\n",
        "df2 = spark.read.csv(path, header=True, inferSchema=True)\n",
        "\n",
        "df2 = df2.withColumnRenamed('Name', 'Nama') \\\n",
        "       .withColumnRenamed('Age', 'Usia') \\\n",
        "       .withColumnRenamed('Marital Status', 'Status Perkawinan') \\\n",
        "       .withColumnRenamed('Education Level', 'Tingkat Pendidikan') \\\n",
        "       .withColumnRenamed('Number of Children', 'Jumlah Anak') \\\n",
        "       .withColumnRenamed('Smoking Status', 'Status Merokok') \\\n",
        "       .withColumnRenamed('Physical Activity Level', 'Tingkat Aktivitas Fisik') \\\n",
        "       .withColumnRenamed('Employment Status', 'Status Pekerjaan') \\\n",
        "       .withColumnRenamed('Income', 'Pendapatan') \\\n",
        "       .withColumnRenamed('Alcohol Consumption', 'Konsumsi Alkohol') \\\n",
        "       .withColumnRenamed('Dietary Habits', 'Kebiasaan Diet') \\\n",
        "       .withColumnRenamed('Sleep Patterns', 'Pola Tidur') \\\n",
        "       .withColumnRenamed('History of Mental Illness', 'Riwayat Penyakit Mental') \\\n",
        "       .withColumnRenamed('History of Substance Abuse', 'Riwayat Penyalahgunaan Zat') \\\n",
        "       .withColumnRenamed('Family History of Depression', 'Riwayat Keluarga Depresi') \\\n",
        "       .withColumnRenamed('Chronic Medical Conditions', 'Kondisi Medis Kronis')\n",
        "\n",
        "# Pastikan label adalah biner dengan StringIndexer pada kolom yang sesuai\n",
        "indexer = StringIndexer(inputCol=\"Riwayat Penyakit Mental\", outputCol=\"label\")\n",
        "df2 = indexer.fit(df2).transform(df2)\n",
        "\n",
        "# Konversi nilai label ke biner (0 atau 1)\n",
        "df2 = df2.withColumn(\"label\", when(df2[\"label\"] > 0, 1).otherwise(0))\n",
        "\n",
        "# Periksa nilai unik dalam label untuk memastikan sudah biner\n",
        "df2.select(\"label\").distinct().show()\n",
        "\n",
        "# Gabungkan fitur\n",
        "feature_columns = ['Usia', 'Jumlah Anak', 'Pendapatan']\n",
        "assembler = VectorAssembler(inputCols=feature_columns, outputCol=\"features\")\n",
        "df2 = assembler.transform(df2).select(\"features\", \"label\")\n",
        "\n",
        "# Split data menjadi train dan test\n",
        "train_data, test_data = df2.randomSplit([0.8, 0.2], seed=42)\n",
        "\n",
        "# Decision Tree Classifier\n",
        "dt = DecisionTreeClassifier(labelCol=\"label\", featuresCol=\"features\")\n",
        "dt_model = dt.fit(train_data)\n",
        "\n",
        "predictions_dt = dt_model.transform(test_data)\n",
        "evaluator = MulticlassClassificationEvaluator(labelCol=\"label\", metricName=\"accuracy\")\n",
        "accuracy_dt = evaluator.evaluate(predictions_dt)\n",
        "print(f\"Decision Tree Accuracy: {accuracy_dt}\")\n",
        "\n",
        "f1_dt = MulticlassClassificationEvaluator(labelCol=\"label\", metricName=\"f1\").evaluate(predictions_dt)\n",
        "print(f\"F1 Score: {f1_dt}\")\n"
      ]
    },
    {
      "cell_type": "markdown",
      "metadata": {
        "id": "spshzQ1G3BjJ"
      },
      "source": [
        "Nomor 2"
      ]
    },
    {
      "cell_type": "code",
      "execution_count": 7,
      "metadata": {
        "colab": {
          "base_uri": "https://localhost:8080/",
          "height": 547
        },
        "id": "BgOd7CsY3A4C",
        "collapsed": true,
        "outputId": "64aeb250-9453-417a-a95f-f3be7dbcc154"
      },
      "outputs": [
        {
          "output_type": "stream",
          "name": "stdout",
          "text": [
            "+-----+\n",
            "|label|\n",
            "+-----+\n",
            "|    1|\n",
            "|    0|\n",
            "+-----+\n",
            "\n",
            "Training Gradient Boosted Tree...\n"
          ]
        },
        {
          "output_type": "error",
          "ename": "KeyboardInterrupt",
          "evalue": "",
          "traceback": [
            "\u001b[0;31m---------------------------------------------------------------------------\u001b[0m",
            "\u001b[0;31mIndexError\u001b[0m                                Traceback (most recent call last)",
            "\u001b[0;32m/usr/lib/python3.11/multiprocessing/pool.py\u001b[0m in \u001b[0;36mnext\u001b[0;34m(self, timeout)\u001b[0m\n\u001b[1;32m    855\u001b[0m             \u001b[0;32mtry\u001b[0m\u001b[0;34m:\u001b[0m\u001b[0;34m\u001b[0m\u001b[0;34m\u001b[0m\u001b[0m\n\u001b[0;32m--> 856\u001b[0;31m                 \u001b[0mitem\u001b[0m \u001b[0;34m=\u001b[0m \u001b[0mself\u001b[0m\u001b[0;34m.\u001b[0m\u001b[0m_items\u001b[0m\u001b[0;34m.\u001b[0m\u001b[0mpopleft\u001b[0m\u001b[0;34m(\u001b[0m\u001b[0;34m)\u001b[0m\u001b[0;34m\u001b[0m\u001b[0;34m\u001b[0m\u001b[0m\n\u001b[0m\u001b[1;32m    857\u001b[0m             \u001b[0;32mexcept\u001b[0m \u001b[0mIndexError\u001b[0m\u001b[0;34m:\u001b[0m\u001b[0;34m\u001b[0m\u001b[0;34m\u001b[0m\u001b[0m\n",
            "\u001b[0;31mIndexError\u001b[0m: pop from an empty deque",
            "\nDuring handling of the above exception, another exception occurred:\n",
            "\u001b[0;31mKeyboardInterrupt\u001b[0m                         Traceback (most recent call last)",
            "\u001b[0;32m<ipython-input-7-ac7c8cb13263>\u001b[0m in \u001b[0;36m<cell line: 0>\u001b[0;34m()\u001b[0m\n\u001b[1;32m     64\u001b[0m \u001b[0;34m\u001b[0m\u001b[0m\n\u001b[1;32m     65\u001b[0m \u001b[0mprint\u001b[0m\u001b[0;34m(\u001b[0m\u001b[0;34m\"Training Gradient Boosted Tree...\"\u001b[0m\u001b[0;34m)\u001b[0m\u001b[0;34m\u001b[0m\u001b[0;34m\u001b[0m\u001b[0m\n\u001b[0;32m---> 66\u001b[0;31m \u001b[0mgbt_model\u001b[0m \u001b[0;34m=\u001b[0m \u001b[0mgbt_cv\u001b[0m\u001b[0;34m.\u001b[0m\u001b[0mfit\u001b[0m\u001b[0;34m(\u001b[0m\u001b[0mtrain_data\u001b[0m\u001b[0;34m)\u001b[0m\u001b[0;34m\u001b[0m\u001b[0;34m\u001b[0m\u001b[0m\n\u001b[0m\u001b[1;32m     67\u001b[0m \u001b[0mpredictions_gbt\u001b[0m \u001b[0;34m=\u001b[0m \u001b[0mgbt_model\u001b[0m\u001b[0;34m.\u001b[0m\u001b[0mtransform\u001b[0m\u001b[0;34m(\u001b[0m\u001b[0mtest_data\u001b[0m\u001b[0;34m)\u001b[0m\u001b[0;34m\u001b[0m\u001b[0;34m\u001b[0m\u001b[0m\n\u001b[1;32m     68\u001b[0m \u001b[0;34m\u001b[0m\u001b[0m\n",
            "\u001b[0;32m/usr/local/lib/python3.11/dist-packages/pyspark/ml/base.py\u001b[0m in \u001b[0;36mfit\u001b[0;34m(self, dataset, params)\u001b[0m\n\u001b[1;32m    203\u001b[0m                 \u001b[0;32mreturn\u001b[0m \u001b[0mself\u001b[0m\u001b[0;34m.\u001b[0m\u001b[0mcopy\u001b[0m\u001b[0;34m(\u001b[0m\u001b[0mparams\u001b[0m\u001b[0;34m)\u001b[0m\u001b[0;34m.\u001b[0m\u001b[0m_fit\u001b[0m\u001b[0;34m(\u001b[0m\u001b[0mdataset\u001b[0m\u001b[0;34m)\u001b[0m\u001b[0;34m\u001b[0m\u001b[0;34m\u001b[0m\u001b[0m\n\u001b[1;32m    204\u001b[0m             \u001b[0;32melse\u001b[0m\u001b[0;34m:\u001b[0m\u001b[0;34m\u001b[0m\u001b[0;34m\u001b[0m\u001b[0m\n\u001b[0;32m--> 205\u001b[0;31m                 \u001b[0;32mreturn\u001b[0m \u001b[0mself\u001b[0m\u001b[0;34m.\u001b[0m\u001b[0m_fit\u001b[0m\u001b[0;34m(\u001b[0m\u001b[0mdataset\u001b[0m\u001b[0;34m)\u001b[0m\u001b[0;34m\u001b[0m\u001b[0;34m\u001b[0m\u001b[0m\n\u001b[0m\u001b[1;32m    206\u001b[0m         \u001b[0;32melse\u001b[0m\u001b[0;34m:\u001b[0m\u001b[0;34m\u001b[0m\u001b[0;34m\u001b[0m\u001b[0m\n\u001b[1;32m    207\u001b[0m             raise TypeError(\n",
            "\u001b[0;32m/usr/local/lib/python3.11/dist-packages/pyspark/ml/tuning.py\u001b[0m in \u001b[0;36m_fit\u001b[0;34m(self, dataset)\u001b[0m\n\u001b[1;32m    845\u001b[0m                 \u001b[0m_parallelFitTasks\u001b[0m\u001b[0;34m(\u001b[0m\u001b[0mest\u001b[0m\u001b[0;34m,\u001b[0m \u001b[0mtrain\u001b[0m\u001b[0;34m,\u001b[0m \u001b[0meva\u001b[0m\u001b[0;34m,\u001b[0m \u001b[0mvalidation\u001b[0m\u001b[0;34m,\u001b[0m \u001b[0mepm\u001b[0m\u001b[0;34m,\u001b[0m \u001b[0mcollectSubModelsParam\u001b[0m\u001b[0;34m)\u001b[0m\u001b[0;34m,\u001b[0m\u001b[0;34m\u001b[0m\u001b[0;34m\u001b[0m\u001b[0m\n\u001b[1;32m    846\u001b[0m             )\n\u001b[0;32m--> 847\u001b[0;31m             \u001b[0;32mfor\u001b[0m \u001b[0mj\u001b[0m\u001b[0;34m,\u001b[0m \u001b[0mmetric\u001b[0m\u001b[0;34m,\u001b[0m \u001b[0msubModel\u001b[0m \u001b[0;32min\u001b[0m \u001b[0mpool\u001b[0m\u001b[0;34m.\u001b[0m\u001b[0mimap_unordered\u001b[0m\u001b[0;34m(\u001b[0m\u001b[0;32mlambda\u001b[0m \u001b[0mf\u001b[0m\u001b[0;34m:\u001b[0m \u001b[0mf\u001b[0m\u001b[0;34m(\u001b[0m\u001b[0;34m)\u001b[0m\u001b[0;34m,\u001b[0m \u001b[0mtasks\u001b[0m\u001b[0;34m)\u001b[0m\u001b[0;34m:\u001b[0m\u001b[0;34m\u001b[0m\u001b[0;34m\u001b[0m\u001b[0m\n\u001b[0m\u001b[1;32m    848\u001b[0m                 \u001b[0mmetrics_all\u001b[0m\u001b[0;34m[\u001b[0m\u001b[0mi\u001b[0m\u001b[0;34m]\u001b[0m\u001b[0;34m[\u001b[0m\u001b[0mj\u001b[0m\u001b[0;34m]\u001b[0m \u001b[0;34m=\u001b[0m \u001b[0mmetric\u001b[0m\u001b[0;34m\u001b[0m\u001b[0;34m\u001b[0m\u001b[0m\n\u001b[1;32m    849\u001b[0m                 \u001b[0;32mif\u001b[0m \u001b[0mcollectSubModelsParam\u001b[0m\u001b[0;34m:\u001b[0m\u001b[0;34m\u001b[0m\u001b[0;34m\u001b[0m\u001b[0m\n",
            "\u001b[0;32m/usr/lib/python3.11/multiprocessing/pool.py\u001b[0m in \u001b[0;36mnext\u001b[0;34m(self, timeout)\u001b[0m\n\u001b[1;32m    859\u001b[0m                     \u001b[0mself\u001b[0m\u001b[0;34m.\u001b[0m\u001b[0m_pool\u001b[0m \u001b[0;34m=\u001b[0m \u001b[0;32mNone\u001b[0m\u001b[0;34m\u001b[0m\u001b[0;34m\u001b[0m\u001b[0m\n\u001b[1;32m    860\u001b[0m                     \u001b[0;32mraise\u001b[0m \u001b[0mStopIteration\u001b[0m \u001b[0;32mfrom\u001b[0m \u001b[0;32mNone\u001b[0m\u001b[0;34m\u001b[0m\u001b[0;34m\u001b[0m\u001b[0m\n\u001b[0;32m--> 861\u001b[0;31m                 \u001b[0mself\u001b[0m\u001b[0;34m.\u001b[0m\u001b[0m_cond\u001b[0m\u001b[0;34m.\u001b[0m\u001b[0mwait\u001b[0m\u001b[0;34m(\u001b[0m\u001b[0mtimeout\u001b[0m\u001b[0;34m)\u001b[0m\u001b[0;34m\u001b[0m\u001b[0;34m\u001b[0m\u001b[0m\n\u001b[0m\u001b[1;32m    862\u001b[0m                 \u001b[0;32mtry\u001b[0m\u001b[0;34m:\u001b[0m\u001b[0;34m\u001b[0m\u001b[0;34m\u001b[0m\u001b[0m\n\u001b[1;32m    863\u001b[0m                     \u001b[0mitem\u001b[0m \u001b[0;34m=\u001b[0m \u001b[0mself\u001b[0m\u001b[0;34m.\u001b[0m\u001b[0m_items\u001b[0m\u001b[0;34m.\u001b[0m\u001b[0mpopleft\u001b[0m\u001b[0;34m(\u001b[0m\u001b[0;34m)\u001b[0m\u001b[0;34m\u001b[0m\u001b[0;34m\u001b[0m\u001b[0m\n",
            "\u001b[0;32m/usr/lib/python3.11/threading.py\u001b[0m in \u001b[0;36mwait\u001b[0;34m(self, timeout)\u001b[0m\n\u001b[1;32m    325\u001b[0m         \u001b[0;32mtry\u001b[0m\u001b[0;34m:\u001b[0m    \u001b[0;31m# restore state no matter what (e.g., KeyboardInterrupt)\u001b[0m\u001b[0;34m\u001b[0m\u001b[0;34m\u001b[0m\u001b[0m\n\u001b[1;32m    326\u001b[0m             \u001b[0;32mif\u001b[0m \u001b[0mtimeout\u001b[0m \u001b[0;32mis\u001b[0m \u001b[0;32mNone\u001b[0m\u001b[0;34m:\u001b[0m\u001b[0;34m\u001b[0m\u001b[0;34m\u001b[0m\u001b[0m\n\u001b[0;32m--> 327\u001b[0;31m                 \u001b[0mwaiter\u001b[0m\u001b[0;34m.\u001b[0m\u001b[0macquire\u001b[0m\u001b[0;34m(\u001b[0m\u001b[0;34m)\u001b[0m\u001b[0;34m\u001b[0m\u001b[0;34m\u001b[0m\u001b[0m\n\u001b[0m\u001b[1;32m    328\u001b[0m                 \u001b[0mgotit\u001b[0m \u001b[0;34m=\u001b[0m \u001b[0;32mTrue\u001b[0m\u001b[0;34m\u001b[0m\u001b[0;34m\u001b[0m\u001b[0m\n\u001b[1;32m    329\u001b[0m             \u001b[0;32melse\u001b[0m\u001b[0;34m:\u001b[0m\u001b[0;34m\u001b[0m\u001b[0;34m\u001b[0m\u001b[0m\n",
            "\u001b[0;31mKeyboardInterrupt\u001b[0m: "
          ]
        }
      ],
      "source": [
        "from pyspark.sql import SparkSession\n",
        "from pyspark.ml.feature import StringIndexer, VectorAssembler\n",
        "from pyspark.ml.classification import GBTClassifier, DecisionTreeClassifier\n",
        "from pyspark.ml.evaluation import BinaryClassificationEvaluator\n",
        "from pyspark.ml.tuning import ParamGridBuilder, CrossValidator\n",
        "from pyspark.sql.functions import when\n",
        "\n",
        "# Inisialisasi Spark Session\n",
        "spark = SparkSession.builder.appName(\"MentalHealthPrediction\").getOrCreate()\n",
        "\n",
        "# Membaca dataset\n",
        "path = 'depression_data.csv'\n",
        "df2 = spark.read.csv(path, header=True, inferSchema=True)\n",
        "\n",
        "# Mengganti nama kolom agar lebih mudah digunakan\n",
        "df2 = df2.withColumnRenamed('Name', 'Nama') \\\n",
        "         .withColumnRenamed('Age', 'Usia') \\\n",
        "         .withColumnRenamed('Marital Status', 'Status Perkawinan') \\\n",
        "         .withColumnRenamed('Education Level', 'Tingkat Pendidikan') \\\n",
        "         .withColumnRenamed('Number of Children', 'Jumlah Anak') \\\n",
        "         .withColumnRenamed('Smoking Status', 'Status Merokok') \\\n",
        "         .withColumnRenamed('Physical Activity Level', 'Tingkat Aktivitas Fisik') \\\n",
        "         .withColumnRenamed('Employment Status', 'Status Pekerjaan') \\\n",
        "         .withColumnRenamed('Income', 'Pendapatan') \\\n",
        "         .withColumnRenamed('Alcohol Consumption', 'Konsumsi Alkohol') \\\n",
        "         .withColumnRenamed('Dietary Habits', 'Kebiasaan Diet') \\\n",
        "         .withColumnRenamed('Sleep Patterns', 'Pola Tidur') \\\n",
        "         .withColumnRenamed('History of Mental Illness', 'Riwayat Penyakit Mental') \\\n",
        "         .withColumnRenamed('History of Substance Abuse', 'Riwayat Penyalahgunaan Zat') \\\n",
        "         .withColumnRenamed('Family History of Depression', 'Riwayat Keluarga Depresi') \\\n",
        "         .withColumnRenamed('Chronic Medical Conditions', 'Kondisi Medis Kronis')\n",
        "\n",
        "# Mengonversi nilai label menjadi biner\n",
        "indexer = StringIndexer(inputCol=\"Riwayat Penyakit Mental\", outputCol=\"label\", handleInvalid=\"keep\")\n",
        "df2 = indexer.fit(df2).transform(df2)\n",
        "\n",
        "# Pastikan label hanya 0 dan 1\n",
        "df2 = df2.withColumn(\"label\", when(df2[\"label\"] > 0, 1).otherwise(0))\n",
        "df2.select(\"label\").distinct().show()\n",
        "\n",
        "# Menggabungkan fitur numerik yang relevan\n",
        "feature_columns = ['Usia', 'Jumlah Anak', 'Pendapatan']\n",
        "assembler = VectorAssembler(inputCols=feature_columns, outputCol=\"features\")\n",
        "df2 = assembler.transform(df2).select(\"features\", \"label\")\n",
        "\n",
        "# Split data menjadi training dan testing set\n",
        "train_data, test_data = df2.randomSplit([0.8, 0.2], seed=42)\n",
        "\n",
        "# Gradient Boosted Tree Classifier dengan hyperparameter tuning\n",
        "gbt = GBTClassifier(labelCol=\"label\", featuresCol=\"features\", seed=42)\n",
        "\n",
        "gbt_param_grid = ParamGridBuilder() \\\n",
        "    .addGrid(gbt.maxDepth, [5, 10]) \\\n",
        "    .addGrid(gbt.maxIter, [50, 100]) \\\n",
        "    .addGrid(gbt.stepSize, [0.05, 0.1]) \\\n",
        "    .build()\n",
        "\n",
        "evaluator = BinaryClassificationEvaluator(labelCol=\"label\", metricName=\"areaUnderROC\")\n",
        "\n",
        "gbt_cv = CrossValidator(estimator=gbt,\n",
        "                        estimatorParamMaps=gbt_param_grid,\n",
        "                        evaluator=evaluator,\n",
        "                        numFolds=5)\n",
        "\n",
        "print(\"Training Gradient Boosted Tree...\")\n",
        "gbt_model = gbt_cv.fit(train_data)\n",
        "predictions_gbt = gbt_model.transform(test_data)\n",
        "\n",
        "# Evaluasi performa Gradient Boosted Tree\n",
        "accuracy_gbt = evaluator.evaluate(predictions_gbt)\n",
        "print(f\"Gradient Boosted Tree AUC: {accuracy_gbt}\")\n",
        "\n",
        "# Decision Tree Classifier dengan hyperparameter tuning\n",
        "dt = DecisionTreeClassifier(labelCol=\"label\", featuresCol=\"features\")\n",
        "\n",
        "dt_param_grid = ParamGridBuilder() \\\n",
        "    .addGrid(dt.maxDepth, [5, 10]) \\\n",
        "    .addGrid(dt.impurity, ['gini', 'entropy']) \\\n",
        "    .build()\n",
        "\n",
        "dt_cv = CrossValidator(estimator=dt,\n",
        "                        estimatorParamMaps=dt_param_grid,\n",
        "                        evaluator=evaluator,\n",
        "                        numFolds=5)\n",
        "\n",
        "print(\"Training Decision Tree...\")\n",
        "dt_model = dt_cv.fit(train_data)\n",
        "predictions_dt = dt_model.transform(test_data)\n",
        "\n",
        "# Evaluasi performa Decision Tree\n",
        "accuracy_dt = evaluator.evaluate(predictions_dt)\n",
        "print(f\"Decision Tree AUC: {accuracy_dt}\")\n",
        "\n",
        "# Menentukan model terbaik berdasarkan AUC\n",
        "if accuracy_gbt > accuracy_dt:\n",
        "    print(\"Gradient Boosted Tree is the best model\")\n",
        "else:\n",
        "    print(\"Decision Tree is the best model\")\n"
      ]
    },
    {
      "cell_type": "markdown",
      "metadata": {
        "id": "_al6i_PUPPtF"
      },
      "source": [
        "Nomor 2"
      ]
    },
    {
      "cell_type": "markdown",
      "metadata": {
        "id": "qJ2Xta5tPYko"
      },
      "source": [
        "#### Kesimpulan\n",
        "\n",
        "Model **Gradient Boosted Tree (GBT)** cocok untuk data ini karena metode ini mampu menangani hubungan non-linear antar fitur seperti **Usia**, **Jumlah Anak**, dan **Pendapatan** terhadap risiko depresi. Model ini bekerja dengan meningkatkan performa secara iteratif, sehingga dapat menangkap pola kompleks dalam data kesehatan mental.\n",
        "\n",
        "Hasil tuning hyperparameter menunjukkan bahwa GBT memiliki performa terbaik dibandingkan Decision Tree, dengan nilai **AUC yang lebih tinggi**, menunjukkan bahwa model ini lebih baik dalam membedakan individu dengan dan tanpa riwayat penyakit mental.\n",
        "\n",
        "Karakteristik data yang terdiri dari fitur numerik terukur dan kategori yang dapat dikonversi ke dalam format biner membuat model ini dapat memberikan prediksi yang akurat dan dapat diandalkan untuk mendukung program pencegahan dan intervensi kesehatan mental."
      ]
    }
  ],
  "metadata": {
    "colab": {
      "provenance": []
    },
    "kernelspec": {
      "display_name": "Python 3",
      "name": "python3"
    },
    "language_info": {
      "name": "python"
    }
  },
  "nbformat": 4,
  "nbformat_minor": 0
}